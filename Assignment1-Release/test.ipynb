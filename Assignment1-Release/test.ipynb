{
 "cells": [
  {
   "cell_type": "code",
   "execution_count": 29,
   "metadata": {},
   "outputs": [],
   "source": [
    "import os\n",
    "import numpy as np\n",
    "import cv2\n",
    "from matplotlib import pyplot as plt\n",
    "import re\n",
    "import string"
   ]
  },
  {
   "cell_type": "code",
   "execution_count": 23,
   "metadata": {},
   "outputs": [
    {
     "data": {
      "text/plain": [
       "<matplotlib.image.AxesImage at 0x207dc1a1640>"
      ]
     },
     "execution_count": 23,
     "metadata": {},
     "output_type": "execute_result"
    },
    {
     "data": {
      "image/png": "[encoded data removed]",
      "text/plain": [
       "<Figure size 432x288 with 1 Axes>"
      ]
     },
     "metadata": {
      "needs_background": "light"
     },
     "output_type": "display_data"
    }
   ],
   "source": [
    "os.listdir(r'images/train/b/bedroom')\n",
    "image = cv2.imread(r'images/train/b/bedroom/00000001.jpg')\n",
    "image = cv2.resize(image, (32, 32))\n",
    "plt.imshow(image)"
   ]
  },
  {
   "cell_type": "code",
   "execution_count": 69,
   "metadata": {},
   "outputs": [
    {
     "data": {
      "text/plain": [
       "['/b/bathroom',\n",
       " '/b/bedroom',\n",
       " '/b/bookstore',\n",
       " '/c/classroom',\n",
       " '/d/dining_room',\n",
       " '/f/food_court',\n",
       " '/k/kitchen',\n",
       " '/l/lobby',\n",
       " '/l/living_room',\n",
       " '/o/office',\n",
       " '/b/baseball_field',\n",
       " '/b/bridge',\n",
       " '/c/campsite',\n",
       " '/c/canyon',\n",
       " '/c/coast',\n",
       " '/f/fountain',\n",
       " '/h/highway',\n",
       " '/p/playground',\n",
       " '/m/mountain',\n",
       " '/r/rainforest']"
      ]
     },
     "execution_count": 69,
     "metadata": {},
     "output_type": "execute_result"
    }
   ],
   "source": [
    "with open('categories_tinyplaces.txt') as f:\n",
    "    lines = f.readlines()\n",
    "    lines = [line.rstrip() for line in lines]\n",
    "categories = [re.sub(r'\\s[0-9]+', '', line) for line in lines]\n",
    "categories"
   ]
  },
  {
   "cell_type": "code",
   "execution_count": 72,
   "metadata": {},
   "outputs": [
    {
     "data": {
      "text/plain": [
       "['16',\n",
       " '18',\n",
       " '20',\n",
       " '33',\n",
       " '45',\n",
       " '48',\n",
       " '59',\n",
       " '63',\n",
       " '62',\n",
       " '70',\n",
       " '15',\n",
       " '24',\n",
       " '27',\n",
       " '29',\n",
       " '35',\n",
       " '49',\n",
       " '53',\n",
       " '74',\n",
       " '68',\n",
       " '77']"
      ]
     },
     "execution_count": 72,
     "metadata": {},
     "output_type": "execute_result"
    }
   ],
   "source": [
    "category_nums = [re.findall(r'[0-9]+', line)[0] for line in lines]\n",
    "category_nums"
   ]
  },
  {
   "cell_type": "code",
   "execution_count": 46,
   "metadata": {},
   "outputs": [],
   "source": [
    "with open('train.txt') as f:\n",
    "    lines = f.readlines()\n",
    "    lines = [line.rstrip() for line in lines]\n",
    "lines = [re.sub(r'\\s[0-9]+', '', line) for line in lines]"
   ]
  },
  {
   "cell_type": "code",
   "execution_count": 61,
   "metadata": {},
   "outputs": [],
   "source": [
    "train_labs = []\n",
    "for cat in categories:\n",
    "    count = 0\n",
    "    for line in lines:\n",
    "        if cat in line:\n",
    "            train_labs.append(line)\n",
    "            count += 1\n",
    "        if count == 500:\n",
    "            break"
   ]
  },
  {
   "cell_type": "code",
   "execution_count": 132,
   "metadata": {},
   "outputs": [],
   "source": [
    "def load_train_labels():\n",
    "    with open(f'train.txt') as f:\n",
    "        lines = f.readlines()\n",
    "        lines = [line.rstrip() for line in lines]\n",
    "    lines = [re.sub(r'\\s[0-9]+', '', line) for line in lines]\n",
    "    labs = []\n",
    "    for cat in categories:\n",
    "        count = 0\n",
    "        for line in lines:\n",
    "            if cat in line:\n",
    "                labs.append(line)\n",
    "                count += 1\n",
    "            if count == 500:\n",
    "                break\n",
    "    labs = [\"images/\" + lab for lab in labs]\n",
    "    return labs"
   ]
  },
  {
   "cell_type": "code",
   "execution_count": 135,
   "metadata": {},
   "outputs": [],
   "source": [
    "def load_val_labels():\n",
    "    with open('val.txt') as f:\n",
    "        lines = f.readlines()\n",
    "        lines = [line.rstrip() for line in lines]\n",
    "    labs = []\n",
    "    for num in category_nums:\n",
    "        count = 0\n",
    "        for line in lines:\n",
    "            if num in line[-2:]:\n",
    "                labs.append(line[:-3])\n",
    "                count += 1\n",
    "            if count == 50:\n",
    "                break\n",
    "    labs = [\"images/\" + lab for lab in labs]\n",
    "    return labs"
   ]
  },
  {
   "cell_type": "code",
   "execution_count": 94,
   "metadata": {},
   "outputs": [
    {
     "data": {
      "text/plain": [
       "10000"
      ]
     },
     "execution_count": 94,
     "metadata": {},
     "output_type": "execute_result"
    }
   ],
   "source": [
    "len(load_train_labels())"
   ]
  },
  {
   "cell_type": "code",
   "execution_count": 95,
   "metadata": {},
   "outputs": [
    {
     "data": {
      "text/plain": [
       "1000"
      ]
     },
     "execution_count": 95,
     "metadata": {},
     "output_type": "execute_result"
    }
   ],
   "source": [
    "len(load_val_labels())"
   ]
  },
  {
   "cell_type": "code",
   "execution_count": null,
   "metadata": {},
   "outputs": [],
   "source": [
    "\"\".join('images/')"
   ]
  },
  {
   "cell_type": "code",
   "execution_count": 103,
   "metadata": {},
   "outputs": [
    {
     "data": {
      "text/plain": [
       "(32, 32, 3)"
      ]
     },
     "execution_count": 103,
     "metadata": {},
     "output_type": "execute_result"
    }
   ],
   "source": [
    "np.array(image).shape"
   ]
  },
  {
   "cell_type": "code",
   "execution_count": 144,
   "metadata": {},
   "outputs": [],
   "source": [
    "def create_image_data(data, num_labels):\n",
    "    if data == \"train\":\n",
    "        labels = load_train_labels()\n",
    "    elif data == \"val\":\n",
    "        labels = load_val_labels()\n",
    "    image_array = []\n",
    "    for img in labels:\n",
    "        img = cv2.imread(img)\n",
    "        img = cv2.resize(img, (32, 32))\n",
    "        image_array.append(img.ravel())\n",
    "    labels = np.repeat(np.arange(num_labels), len(labels) / num_labels)\n",
    "    d = {'data': np.array(image_array), 'label': labels}\n",
    "    return d\n"
   ]
  },
  {
   "cell_type": "code",
   "execution_count": 149,
   "metadata": {},
   "outputs": [],
   "source": [
    "a = create_image_data(\"train\", 2)"
   ]
  },
  {
   "cell_type": "code",
   "execution_count": 153,
   "metadata": {},
   "outputs": [
    {
     "data": {
      "text/plain": [
       "5000"
      ]
     },
     "execution_count": 153,
     "metadata": {},
     "output_type": "execute_result"
    }
   ],
   "source": [
    "len(a[\"label\"][a[\"label\"] == 0])"
   ]
  },
  {
   "cell_type": "code",
   "execution_count": 154,
   "metadata": {},
   "outputs": [
    {
     "ename": "FileNotFoundError",
     "evalue": "[Errno 2] No such file or directory: 'css188/tinyplace-val.p'",
     "output_type": "error",
     "traceback": [
      "\u001b[1;31m---------------------------------------------------------------------------\u001b[0m",
      "\u001b[1;31mFileNotFoundError\u001b[0m                         Traceback (most recent call last)",
      "\u001b[1;32m~\\AppData\\Local\\Temp/ipykernel_35824/265968303.py\u001b[0m in \u001b[0;36m<module>\u001b[1;34m\u001b[0m\n\u001b[0;32m      1\u001b[0m \u001b[1;32mimport\u001b[0m \u001b[0mpickle\u001b[0m\u001b[1;33m\u001b[0m\u001b[1;33m\u001b[0m\u001b[0m\n\u001b[1;32m----> 2\u001b[1;33m \u001b[1;32mwith\u001b[0m \u001b[0mopen\u001b[0m\u001b[1;33m(\u001b[0m\u001b[1;34m'css188/tinyplace-val.p'\u001b[0m\u001b[1;33m,\u001b[0m \u001b[1;34m'rb'\u001b[0m\u001b[1;33m)\u001b[0m \u001b[1;32mas\u001b[0m \u001b[0mfo2\u001b[0m\u001b[1;33m:\u001b[0m\u001b[1;33m\u001b[0m\u001b[1;33m\u001b[0m\u001b[0m\n\u001b[0m\u001b[0;32m      3\u001b[0m     \u001b[0mdata_val\u001b[0m \u001b[1;33m=\u001b[0m \u001b[0mpickle\u001b[0m\u001b[1;33m.\u001b[0m\u001b[0mload\u001b[0m\u001b[1;33m(\u001b[0m\u001b[0mfo2\u001b[0m\u001b[1;33m,\u001b[0m \u001b[0mencoding\u001b[0m\u001b[1;33m=\u001b[0m\u001b[1;34m'bytes'\u001b[0m\u001b[1;33m)\u001b[0m\u001b[1;33m\u001b[0m\u001b[1;33m\u001b[0m\u001b[0m\n",
      "\u001b[1;31mFileNotFoundError\u001b[0m: [Errno 2] No such file or directory: 'css188/tinyplace-val.p'"
     ]
    }
   ],
   "source": [
    "import pickle\n",
    "with open('cs188/tinyplace-val.p', 'rb') as fo2:\n",
    "    data_val = pickle.load(fo2, encoding='bytes')"
   ]
  },
  {
   "cell_type": "code",
   "execution_count": null,
   "metadata": {},
   "outputs": [],
   "source": [
    "import tiny"
   ]
  }
 ],
 "metadata": {
  "interpreter": {
   "hash": "7bda3e6bbebe8288f223b6cd0a02eb9ed2577649233443fa436d34fe4bd1f079"
  },
  "kernelspec": {
   "display_name": "Python 3.9.7 64-bit ('base': conda)",
   "language": "python",
   "name": "python3"
  },
  "language_info": {
   "codemirror_mode": {
    "name": "ipython",
    "version": 3
   },
   "file_extension": ".py",
   "mimetype": "text/x-python",
   "name": "python",
   "nbconvert_exporter": "python",
   "pygments_lexer": "ipython3",
   "version": "3.9.7"
  },
  "orig_nbformat": 4
 },
 "nbformat": 4,
 "nbformat_minor": 2
}
