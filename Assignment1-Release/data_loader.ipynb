{
 "cells": [
  {
   "cell_type": "markdown",
   "metadata": {
    "id": "QcJK3kXl--c3"
   },
   "source": [
    "# CS188 Assignment 1-1: Dataloader\n",
    "\n",
    "Before we start, please put your name and UD in following format\n",
    "\n",
    ": Firstname LASTNAME, #00000000   //   e.g.) Yining Hong, #123456789"
   ]
  },
  {
   "cell_type": "markdown",
   "metadata": {
    "id": "7sA2iBcm_cPb"
   },
   "source": [
    "**Your Answer:**   \n",
    "Your NAME, #XXXXXXXX"
   ]
  },
  {
   "cell_type": "markdown",
   "metadata": {
    "id": "EylwToVNld4u"
   },
   "source": [
    "In this notebook you will implement the dataloader on the TinyPlaces dataset you created.\n",
    "\n",
    "The dataloader will take in the tinyplaces-train and tinyplaces-val files you create, turn them into pytorch tensors.\n",
    "\n",
    "if binary is set to False, it will take in the tinyplaces-train-multiclass and tinyplaces-val-multilclass files you create.\n",
    "\n",
    "If necessary, the dataloader should be able to sample how many data you want and return a sub-sampled dataset.\n",
    "\n",
    "The goal of this exercise is to get you started with how to load data using [PyTorch](https://pytorch.org/)."
   ]
  },
  {
   "cell_type": "markdown",
   "metadata": {
    "id": "hQrEwOpXb9Gh"
   },
   "source": [
    "# Setup Code\n",
    "Before getting started we need to run some boilerplate code to set up our environment. You'll need to rerun this setup code each time you start the notebook.\n",
    "\n",
    "First, run this cell load the [autoreload](https://ipython.readthedocs.io/en/stable/config/extensions/autoreload.html?highlight=autoreload) extension. This allows us to edit `.py` source files, and re-import them into the notebook for a seamless editing and debugging experience."
   ]
  },
  {
   "cell_type": "code",
   "execution_count": null,
   "metadata": {
    "executionInfo": {
     "elapsed": 6,
     "status": "ok",
     "timestamp": 1640982093332,
     "user": {
      "displayName": "Yining Hong",
      "photoUrl": "https://lh3.googleusercontent.com/a-/AOh14GiE5-ME9XjROxPvTyDrxx-4hWSfcllxppcLuf45dQ=s64",
      "userId": "17790273499144031239"
     },
     "user_tz": 480
    },
    "id": "73cuTs3re6wg"
   },
   "outputs": [],
   "source": [
    "%load_ext autoreload\n",
    "%autoreload 2"
   ]
  },
  {
   "cell_type": "markdown",
   "metadata": {
    "id": "Cnf0BfHZfWzO"
   },
   "source": [
    "### Google Colab Setup\n",
    "Next we need to run a few commands to set up our environment on Google Colab.\n",
    "\n",
    "Run the following cell to mount your Google Drive. Follow the link, sign in to your Google account (the same account you used to store this notebook!) and copy the authorization code into the text box that appears below."
   ]
  },
  {
   "cell_type": "code",
   "execution_count": null,
   "metadata": {
    "colab": {
     "base_uri": "https://localhost:8080/"
    },
    "executionInfo": {
     "elapsed": 20818,
     "status": "ok",
     "timestamp": 1640982114146,
     "user": {
      "displayName": "Yining Hong",
      "photoUrl": "https://lh3.googleusercontent.com/a-/AOh14GiE5-ME9XjROxPvTyDrxx-4hWSfcllxppcLuf45dQ=s64",
      "userId": "17790273499144031239"
     },
     "user_tz": 480
    },
    "id": "VxbQtNB6fWzO",
    "outputId": "b930d3e6-a813-4ecd-ecc4-4a0cf4e9c3fa"
   },
   "outputs": [],
   "source": [
    "from google.colab import drive\n",
    "drive.mount('/content/drive')"
   ]
  },
  {
   "cell_type": "markdown",
   "metadata": {
    "id": "5e0jny4L60qQ"
   },
   "source": [
    "Now examine if you can access the assignment folder."
   ]
  },
  {
   "cell_type": "code",
   "execution_count": null,
   "metadata": {
    "colab": {
     "base_uri": "https://localhost:8080/"
    },
    "executionInfo": {
     "elapsed": 321,
     "status": "ok",
     "timestamp": 1640982114463,
     "user": {
      "displayName": "Yining Hong",
      "photoUrl": "https://lh3.googleusercontent.com/a-/AOh14GiE5-ME9XjROxPvTyDrxx-4hWSfcllxppcLuf45dQ=s64",
      "userId": "17790273499144031239"
     },
     "user_tz": 480
    },
    "id": "kfzFXbiEfWzS",
    "outputId": "1d6d11f0-2e6b-40a0-a81b-ba168a5340c5"
   },
   "outputs": [],
   "source": [
    "import os\n",
    "\n",
    "# TODO: Fill in the Google Drive path where you uploaded the assignment\n",
    "# Example: If you create a 188 folder and put all the files under Assignment1 folder, then '188/Assignment1'\n",
    "# GOOGLE_DRIVE_PATH_AFTER_MYDRIVE = '188/Assignment1'\n",
    "GOOGLE_DRIVE_PATH_AFTER_MYDRIVE = 'Assignment1'\n",
    "GOOGLE_DRIVE_PATH = os.path.join('drive', 'My Drive', GOOGLE_DRIVE_PATH_AFTER_MYDRIVE)\n",
    "print(os.listdir(GOOGLE_DRIVE_PATH))"
   ]
  },
  {
   "cell_type": "markdown",
   "metadata": {
    "id": "aY_PV4eQfWzU"
   },
   "source": [
    "Once you have successfully mounted your Google Drive and located the path to this assignment, run th following cell to allow us to import from the `.py` files of this assignment. If it works correctly, it should print the message:\n",
    "\n",
    "```\n",
    "Hello from regression.py!\n",
    "```\n",
    "\n",
    "as well as the last edit time for the file `regression.py`."
   ]
  },
  {
   "cell_type": "code",
   "execution_count": null,
   "metadata": {
    "colab": {
     "base_uri": "https://localhost:8080/"
    },
    "executionInfo": {
     "elapsed": 7048,
     "status": "ok",
     "timestamp": 1640982125238,
     "user": {
      "displayName": "Yining Hong",
      "photoUrl": "https://lh3.googleusercontent.com/a-/AOh14GiE5-ME9XjROxPvTyDrxx-4hWSfcllxppcLuf45dQ=s64",
      "userId": "17790273499144031239"
     },
     "user_tz": 480
    },
    "id": "VGbUf6nTfWzV",
    "outputId": "b63cfab2-c694-42f0-f062-3460c782abc6"
   },
   "outputs": [],
   "source": [
    "import sys\n",
    "sys.path.append(GOOGLE_DRIVE_PATH)\n",
    "\n",
    "import time, os\n",
    "os.environ[\"TZ\"] = \"US/Eastern\"\n",
    "time.tzset()\n",
    "\n",
    "from regression import hello\n",
    "hello()\n",
    "\n",
    "path = os.path.join(GOOGLE_DRIVE_PATH, 'regression.py')\n",
    "edit_time = time.ctime(os.path.getmtime(path))\n",
    "print('regression.py last edited on %s' % edit_time)"
   ]
  },
  {
   "cell_type": "markdown",
   "metadata": {
    "id": "SWSgBT8Wf3tW"
   },
   "source": [
    "# Data preprocessing / Visualization"
   ]
  },
  {
   "cell_type": "markdown",
   "metadata": {
    "id": "emQnvtnFeX1H"
   },
   "source": [
    "## Setup code\n",
    "Run some setup code for this notebook: Import some useful packages and increase the default figure size."
   ]
  },
  {
   "cell_type": "code",
   "execution_count": null,
   "metadata": {
    "executionInfo": {
     "elapsed": 2832,
     "status": "ok",
     "timestamp": 1640982128067,
     "user": {
      "displayName": "Yining Hong",
      "photoUrl": "https://lh3.googleusercontent.com/a-/AOh14GiE5-ME9XjROxPvTyDrxx-4hWSfcllxppcLuf45dQ=s64",
      "userId": "17790273499144031239"
     },
     "user_tz": 480
    },
    "id": "Tf64a0TS8zh7"
   },
   "outputs": [],
   "source": [
    "import torch\n",
    "import torchvision\n",
    "import cs188\n",
    "import matplotlib.pyplot as plt\n",
    "import statistics\n",
    "\n",
    "plt.rcParams['figure.figsize'] = (10.0, 8.0)\n",
    "plt.rcParams['font.size'] = 16"
   ]
  },
  {
   "cell_type": "markdown",
   "metadata": {
    "id": "GSd6jQb4epkC"
   },
   "source": [
    "## Load the Tinyplaces dataset\n",
    "The utility function `data.tinyplaces()` returns the entire tinyplaces dataset as a set of four **Torch tensors**:\n",
    "\n",
    "- `x_train` contains all training images (real numbers in the range $[0, 1]$)\n",
    "- `y_train` contains all training labels (integers in the range $[0, 1]$)\n",
    "- `x_val` contains all validation images\n",
    "- `y_val` contains all validation labels"
   ]
  },
  {
   "cell_type": "code",
   "execution_count": null,
   "metadata": {
    "colab": {
     "base_uri": "https://localhost:8080/"
    },
    "executionInfo": {
     "elapsed": 236,
     "status": "ok",
     "timestamp": 1640982266656,
     "user": {
      "displayName": "Yining Hong",
      "photoUrl": "https://lh3.googleusercontent.com/a-/AOh14GiE5-ME9XjROxPvTyDrxx-4hWSfcllxppcLuf45dQ=s64",
      "userId": "17790273499144031239"
     },
     "user_tz": 480
    },
    "id": "y2JiLb-R9bFb",
    "outputId": "3337e3de-8f06-4c12-b0f8-396c8b859305"
   },
   "outputs": [],
   "source": [
    "x_train, y_train, x_val, y_val = cs188.data.tinyplaces(GOOGLE_DRIVE_PATH)\n",
    "\n",
    "print('Training set:', )\n",
    "print('  data shape:', x_train.shape)\n",
    "print('  labels shape: ', y_train.shape)\n",
    "print('Validation set:')\n",
    "print('  data shape: ', x_val.shape)\n",
    "print('  labels shape', y_val.shape)"
   ]
  },
  {
   "cell_type": "markdown",
   "metadata": {
    "id": "AKKdLGIIffYx"
   },
   "source": [
    "## Visualize the dataset\n",
    "This cell visualizes some random examples from the training set. We will first try the binary classification dataset."
   ]
  },
  {
   "cell_type": "code",
   "execution_count": null,
   "metadata": {
    "colab": {
     "base_uri": "https://localhost:8080/",
     "height": 145
    },
    "executionInfo": {
     "elapsed": 6,
     "status": "ok",
     "timestamp": 1640854277693,
     "user": {
      "displayName": "Yining Hong",
      "photoUrl": "https://lh3.googleusercontent.com/a-/AOh14GiE5-ME9XjROxPvTyDrxx-4hWSfcllxppcLuf45dQ=s64",
      "userId": "17790273499144031239"
     },
     "user_tz": 480
    },
    "id": "UMNVrzrd-d_y",
    "outputId": "da4a61a6-c21e-47a2-e4a3-1bfd8d9573eb"
   },
   "outputs": [],
   "source": [
    "import random\n",
    "from torchvision.utils import make_grid\n",
    "\n",
    "classes = ['indoor', 'outdoor']\n",
    "samples_per_class = 10\n",
    "samples = []\n",
    "for y, cls in enumerate(classes):\n",
    "    plt.text(-4, 40 * y + 18, cls, ha='right')\n",
    "    idxs, = (y_train == y).nonzero(as_tuple=True)\n",
    "    for i in range(samples_per_class):\n",
    "        idx = idxs[random.randrange(idxs.shape[0])].item()\n",
    "        samples.append(x_train[idx])\n",
    "img = torchvision.utils.make_grid(samples, nrow=samples_per_class)\n",
    "plt.imshow(cs188.tensor_to_image(img))\n",
    "plt.axis('off')\n",
    "plt.show()"
   ]
  },
  {
   "cell_type": "markdown",
   "metadata": {
    "id": "kVefBkuAitwB"
   },
   "source": [
    "For the multi-class version"
   ]
  },
  {
   "cell_type": "code",
   "execution_count": null,
   "metadata": {
    "colab": {
     "base_uri": "https://localhost:8080/",
     "height": 470
    },
    "executionInfo": {
     "elapsed": 1770,
     "status": "ok",
     "timestamp": 1640855048293,
     "user": {
      "displayName": "Yining Hong",
      "photoUrl": "https://lh3.googleusercontent.com/a-/AOh14GiE5-ME9XjROxPvTyDrxx-4hWSfcllxppcLuf45dQ=s64",
      "userId": "17790273499144031239"
     },
     "user_tz": 480
    },
    "id": "d2su5H8FiwaL",
    "outputId": "ab54cfcc-9506-4e21-efa4-956ac1cae581"
   },
   "outputs": [],
   "source": [
    "x_train, y_train, x_val, y_val = cs188.data.tinyplaces(GOOGLE_DRIVE_PATH, binary=False)\n",
    "\n",
    "samples_per_class = 10\n",
    "samples = []\n",
    "classes = ['bathroom', 'bedroom', 'bookstore', 'classroom', 'dining_room', 'food_court', 'kitchen', 'lobby', 'living_room', 'office', 'baseball_field', 'bridge', 'campsite', 'canyon', 'coast', 'fountain', 'highway', 'playground', 'mountain', 'rainforest']\n",
    "for y, cls in enumerate(classes):\n",
    "    plt.text(-4, 35 * y + 18, cls, ha='right')\n",
    "    idxs, = (y_train == y).nonzero(as_tuple=True)\n",
    "    for i in range(samples_per_class):\n",
    "        idx = idxs[random.randrange(idxs.shape[0])].item()\n",
    "        samples.append(x_train[idx])\n",
    "img = torchvision.utils.make_grid(samples, nrow=samples_per_class)\n",
    "plt.imshow(cs188.tensor_to_image(img))\n",
    "plt.axis('off')\n",
    "plt.show()"
   ]
  },
  {
   "cell_type": "markdown",
   "metadata": {
    "id": "z-MncdA18Hjf"
   },
   "source": [
    "## Subsample the dataset\n",
    "When implementing machine learning algorithms, it's usually a good idea to use a small sample of the full dataset. This way your code will run much faster, allowing for more interactive and efficient development. Once you are satisfied that you have correctly implemented the algorithm, you can then rerun with the entire dataset.\n",
    "\n",
    "The function `cs188.data.tinyplaces()` can automatically subsample the TinyPlaces dataset for us. To see how to use it, we can check the documentation using the built-in `help` command:"
   ]
  },
  {
   "cell_type": "code",
   "execution_count": null,
   "metadata": {
    "colab": {
     "base_uri": "https://localhost:8080/"
    },
    "executionInfo": {
     "elapsed": 426,
     "status": "ok",
     "timestamp": 1640855055796,
     "user": {
      "displayName": "Yining Hong",
      "photoUrl": "https://lh3.googleusercontent.com/a-/AOh14GiE5-ME9XjROxPvTyDrxx-4hWSfcllxppcLuf45dQ=s64",
      "userId": "17790273499144031239"
     },
     "user_tz": 480
    },
    "id": "c5MApKuo8VAZ",
    "outputId": "908fb001-8b8c-4945-c7f2-046f4a4a8197"
   },
   "outputs": [],
   "source": [
    "help(cs188.data.tinyplaces)"
   ]
  },
  {
   "cell_type": "markdown",
   "metadata": {
    "id": "DtBIn0xjhPMd"
   },
   "source": [
    "We will subsample the data to use only 100 training examples and validation examples:"
   ]
  },
  {
   "cell_type": "code",
   "execution_count": null,
   "metadata": {
    "colab": {
     "base_uri": "https://localhost:8080/"
    },
    "executionInfo": {
     "elapsed": 13,
     "status": "ok",
     "timestamp": 1640982317183,
     "user": {
      "displayName": "Yining Hong",
      "photoUrl": "https://lh3.googleusercontent.com/a-/AOh14GiE5-ME9XjROxPvTyDrxx-4hWSfcllxppcLuf45dQ=s64",
      "userId": "17790273499144031239"
     },
     "user_tz": 480
    },
    "id": "FFmXwZbnG9ki",
    "outputId": "f1a82bdf-da2a-49b0-f0d2-fd65dea30f3d"
   },
   "outputs": [],
   "source": [
    "num_train = 100\n",
    "num_val = 100\n",
    "\n",
    "x_train, y_train, x_val, y_val = cs188.data.tinyplaces(GOOGLE_DRIVE_PATH, num_train, num_val)\n",
    "\n",
    "print('Training set:', )\n",
    "print('  data shape:', x_train.shape)\n",
    "print('  labels shape: ', y_train.shape)\n",
    "print('validation set:')\n",
    "print('  data shape: ', x_val.shape)\n",
    "print('  labels shape', y_val.shape)"
   ]
  }
 ],
 "metadata": {
  "colab": {
   "collapsed_sections": [],
   "name": "data_loader.ipynb",
   "provenance": []
  },
  "kernelspec": {
   "display_name": "Python 3",
   "language": "python",
   "name": "python3"
  },
  "language_info": {
   "codemirror_mode": {
    "name": "ipython",
    "version": 3
   },
   "file_extension": ".py",
   "mimetype": "text/x-python",
   "name": "python",
   "nbconvert_exporter": "python",
   "pygments_lexer": "ipython3",
   "version": "3.7.3"
  }
 },
 "nbformat": 4,
 "nbformat_minor": 1
}
